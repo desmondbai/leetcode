{
 "cells": [
  {
   "cell_type": "markdown",
   "metadata": {},
   "source": [
    "### Pros & Cons:\n",
    "- Pros: \n",
    "    - `$O(1)$ Complexity` for adding/removing element at a **konwn position**\n",
    "    - `Flexible` in size (as compared to fixed-size in arrays)\n",
    "- Cons: \n",
    "    - `$O(n)$ Complexity` for accessing element at given position\n",
    "    - `Overhead`: extra room to store pointers\n"
   ]
  },
  {
   "cell_type": "code",
   "execution_count": 3,
   "metadata": {},
   "outputs": [
    {
     "name": "stdout",
     "output_type": "stream",
     "text": [
      "1\n",
      "None\n"
     ]
    }
   ],
   "source": [
    "class ListNode:\n",
    "    def __init__(self,value):\n",
    "        self.value = value\n",
    "        self.next = None\n",
    "        self.head = value\n",
    "        self.tail = value\n",
    "\n",
    "\n",
    "head = ListNode(1)\n",
    "ptr = head\n",
    "head = head.next\n",
    "print(ptr.value)\n",
    "print(head)\n"
   ]
  },
  {
   "cell_type": "markdown",
   "metadata": {},
   "source": [
    "### Fast and slow pointer\n",
    "\n",
    "Example 1: Given the head of a linked list with an odd number of nodes `head`, return the value of the node in the middle.\n",
    "\n",
    "For example, given a linked list that represents 1 -> 2 -> 3 -> 4 -> 5, return 3."
   ]
  },
  {
   "cell_type": "code",
   "execution_count": 7,
   "metadata": {},
   "outputs": [
    {
     "name": "stdout",
     "output_type": "stream",
     "text": [
      "1\n",
      "0\n",
      "1\n",
      "2\n",
      "3\n",
      "4\n",
      "5\n"
     ]
    }
   ],
   "source": [
    "class Node:\n",
    "    def __init__(self,value):\n",
    "        self.value = value\n",
    "        self.next = None\n",
    "\n",
    "class LinkedList:\n",
    "    def __init__(self,value):\n",
    "        new_node = Node(value)\n",
    "        self.head = new_node\n",
    "        self.tail = new_node\n",
    "        self.length = 1\n",
    "        \n",
    "\n",
    "    def append(self,value):\n",
    "        new_node = Node(value) \n",
    "        if self.length == 0:\n",
    "            self.head = new_node\n",
    "            self.tail = new_node\n",
    "        else:            \n",
    "            temp_node = self.tail\n",
    "            temp_node.next = new_node\n",
    "            self.tail = new_node\n",
    "            self.length += 1\n",
    "\n",
    "    def print_items(self):\n",
    "        temp = self.head\n",
    "        while temp:\n",
    "            print(temp.value)\n",
    "            temp = temp.next\n",
    "        \n",
    "my_ll = LinkedList(1)\n",
    "\n",
    "for i in range(6):\n",
    "    my_ll.append(i)\n",
    "\n",
    "my_ll.print_items()"
   ]
  },
  {
   "cell_type": "code",
   "execution_count": 5,
   "metadata": {},
   "outputs": [
    {
     "data": {
      "text/plain": [
       "2"
      ]
     },
     "execution_count": 5,
     "metadata": {},
     "output_type": "execute_result"
    }
   ],
   "source": [
    "head = my_ll.head\n",
    "\n",
    "\n",
    "def get_middle(head):\n",
    "    slow = fast = head\n",
    "    while fast.next:\n",
    "        slow = slow.next\n",
    "        fast = fast.next.next\n",
    "    \n",
    "    return slow.value\n",
    "\n",
    "\n",
    "get_middle(head)"
   ]
  }
 ],
 "metadata": {
  "kernelspec": {
   "display_name": "base",
   "language": "python",
   "name": "python3"
  },
  "language_info": {
   "codemirror_mode": {
    "name": "ipython",
    "version": 3
   },
   "file_extension": ".py",
   "mimetype": "text/x-python",
   "name": "python",
   "nbconvert_exporter": "python",
   "pygments_lexer": "ipython3",
   "version": "3.12.2"
  }
 },
 "nbformat": 4,
 "nbformat_minor": 2
}
