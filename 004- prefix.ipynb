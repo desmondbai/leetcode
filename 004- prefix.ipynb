{
 "cells": [
  {
   "cell_type": "markdown",
   "metadata": {},
   "source": [
    "## Prefix"
   ]
  },
  {
   "cell_type": "markdown",
   "metadata": {},
   "source": [
    "#### What: \n",
    "- core idea: summing all numbers up to index i (inclusive)  \n",
    "- running total\n",
    "\n",
    "- complexity: \n",
    "    - Time: $O(n)$\n",
    "    - Space: $O(n)$\n",
    "\n",
    "- preprocessing\n",
    "- doesn't even have to be stored in an array, can be in a number\n",
    "  \n",
    "`[5, 2, 1, 6, 3, 8]`  \n",
    "  \n",
    "`[5, 7, 8, 14, 17, 25]`"
   ]
  },
  {
   "cell_type": "code",
   "execution_count": 20,
   "metadata": {},
   "outputs": [
    {
     "name": "stdout",
     "output_type": "stream",
     "text": [
      "[5, 2, 1, 6, 3, 8]\n",
      "[5, 7, 8, 14, 17, 25]\n"
     ]
    }
   ],
   "source": [
    "nums = [5,2,1,6,3,8]\n",
    "prefix = [nums[0]]\n",
    "for i in range(1,len(nums)):\n",
    "    prefix.append(prefix[-1]+nums[i])\n",
    "print(nums)\n",
    "print(prefix)"
   ]
  },
  {
   "cell_type": "markdown",
   "metadata": {},
   "source": [
    "#### Why\n",
    "- Finding `sum of any subarrays` in $O(1)$  \n",
    "$$sum(array_{ij}) = p_{j} - p_{i-1}$$"
   ]
  },
  {
   "cell_type": "markdown",
   "metadata": {},
   "source": [
    "#### How\n",
    "\n",
    "1. **Checking sum of queried subarrays**\n",
    "  \n",
    "Given an integer array nums, an array queries where queries[i] = [x, y] and an integer limit, return a boolean array that represents the answer to each query. A query is true if the sum of the subarray from x to y is less than limit, or false otherwise.\n",
    "For example, given nums = [1, 6, 3, 2, 7, 2], queries = [[0, 3], [2, 5], [2, 4]], and limit = 13, the answer is [true, false, true]. For each query, the subarray sums are [12, 14, 12]."
   ]
  },
  {
   "cell_type": "code",
   "execution_count": 13,
   "metadata": {},
   "outputs": [
    {
     "data": {
      "text/plain": [
       "[True, False, True]"
      ]
     },
     "execution_count": 13,
     "metadata": {},
     "output_type": "execute_result"
    }
   ],
   "source": [
    "def check_sum_of_subarrays(nums,queries,limit):\n",
    "    \n",
    "    #building prefix array\n",
    "    s = 0\n",
    "    pre = []\n",
    "    for i in range(len(nums)):\n",
    "        s+=nums[i]\n",
    "        pre.append(s)\n",
    "\n",
    "    ans = []\n",
    "    for start,end in queries:\n",
    "        array_sum = pre[end] - pre[start-1]\n",
    "        ans.append(array_sum < limit)\n",
    "    \n",
    "    return ans\n",
    "\n",
    "\n",
    "check_sum_of_subarrays([1, 6, 3, 2, 7, 2],\n",
    "                       [[0, 3], [2, 5], [2, 4]],\n",
    "                       13)\n",
    "\n",
    "\n"
   ]
  },
  {
   "cell_type": "markdown",
   "metadata": {},
   "source": [
    "2. **Number of ways to split array**  \n",
    "\n",
    "Given an integer array nums, find the number of ways to split the array into two parts so that the first section has a sum greater than or equal to the sum of the second section. The second section should have at least one number."
   ]
  },
  {
   "cell_type": "code",
   "execution_count": 19,
   "metadata": {},
   "outputs": [
    {
     "name": "stdout",
     "output_type": "stream",
     "text": [
      "2\n",
      "2\n"
     ]
    }
   ],
   "source": [
    "def find_n_splits(nums):\n",
    "    #building prefix array\n",
    "    s = 0\n",
    "    pre = []\n",
    "    for i in range(len(nums)):\n",
    "        s+=nums[i]\n",
    "        pre.append(s)\n",
    "\n",
    "    cnt = 0    \n",
    "    for pre_sum in pre[:-1]:\n",
    "        left = pre_sum\n",
    "        right = pre[-1] - left\n",
    "        cnt += 1 if left >= right else 0 \n",
    "\n",
    "    return cnt\n",
    "\n",
    "print(find_n_splits([2,3,1,0]))\n",
    "\n",
    "\n",
    "#approach without the array\n",
    "def find_n_splits_noarray(nums):\n",
    "    #store prefixes in an integer\n",
    "    pre = 0\n",
    "    total = sum(nums) #sums are allowed\n",
    "    ans = 0\n",
    "    for i in range(len(nums)-1):\n",
    "        pre+=nums[i]\n",
    "        right = total - pre\n",
    "        if pre >= right:\n",
    "            ans += 1\n",
    "    return ans\n",
    "\n",
    "\n",
    "print(find_n_splits_noarray([2,3,1,0]))"
   ]
  },
  {
   "cell_type": "markdown",
   "metadata": {},
   "source": [
    "#### Exercises:\n",
    "1. Running sum of 1d Array\n",
    "2. Minimum Value to Get Positive Step by Step Sum\n",
    "```\n",
    "start + pre >= 1\n",
    "\n",
    "pre_min + start >= 1\n",
    "```"
   ]
  },
  {
   "cell_type": "code",
   "execution_count": 26,
   "metadata": {},
   "outputs": [
    {
     "data": {
      "text/plain": [
       "5"
      ]
     },
     "execution_count": 26,
     "metadata": {},
     "output_type": "execute_result"
    }
   ],
   "source": [
    "nums = [1,2,3,4]\n",
    "def min_val_step_pos(nums):\n",
    "    pre = 0\n",
    "    min_pre = nums[0]\n",
    "    for i in range(len(nums)):\n",
    "        pre+=nums[i]\n",
    "        min_pre = min(min_pre,pre)\n",
    "    ans = max(1 - min_pre,1) #start value should be positive\n",
    "\n",
    "    return ans\n",
    "\n",
    "min_val_step_pos([1,-2,-3])"
   ]
  },
  {
   "cell_type": "markdown",
   "metadata": {},
   "source": [
    "3. K Radius Subarrays Averages"
   ]
  },
  {
   "cell_type": "markdown",
   "metadata": {},
   "source": [
    "You are given a 0-indexed array nums of n integers, and an integer k.\n",
    "\n",
    "The k-radius average for a subarray of nums centered at some index i with the radius k is the average of all elements in nums between the indices i - k and i + k (inclusive). If there are less than k elements before or after the index i, then the k-radius average is -1.\n",
    "\n",
    "Build and return an array avgs of length n where avgs[i] is the k-radius average for the subarray centered at index i.\n",
    "\n",
    "The average of x elements is the sum of the x elements divided by x, using integer division. The integer division truncates toward zero, which means losing its fractional part.\n",
    "\n",
    "For example, the average of four elements 2, 3, 1, and 5 is (2 + 3 + 1 + 5) / 4 = 11 / 4 = 2.75, which truncates to 2."
   ]
  },
  {
   "cell_type": "code",
   "execution_count": 40,
   "metadata": {},
   "outputs": [
    {
     "name": "stdout",
     "output_type": "stream",
     "text": [
      "37 7\n",
      "32 7\n",
      "34 7\n"
     ]
    },
    {
     "data": {
      "text/plain": [
       "[-1, -1, -1, 5, 4, 4, -1, -1, -1]"
      ]
     },
     "execution_count": 40,
     "metadata": {},
     "output_type": "execute_result"
    }
   ],
   "source": [
    "def k_radius_average(nums,k):\n",
    "    pre = [0]\n",
    "    s = 0\n",
    "    for i in range(len(nums)):\n",
    "        s+=nums[i]\n",
    "        pre.append(s)\n",
    "    \n",
    "    ans = []\n",
    "    for j in range(len(nums)):\n",
    "        if (j - k) < 0 or (j + k) >= len(nums):\n",
    "            curr = -1\n",
    "        else:\n",
    "            print(pre[j+k+1] - pre[j-k],(2*k+1))\n",
    "            curr = (pre[j+k+1] - pre[j-k]) // (2*k+1)\n",
    "            \n",
    "        ans.append(curr)\n",
    "    \n",
    "    return ans\n",
    "\n",
    "\n",
    "k_radius_average([7,4,3,9,1,8,5,2,6],3)\n",
    "\n",
    "    \n"
   ]
  },
  {
   "cell_type": "code",
   "execution_count": 33,
   "metadata": {},
   "outputs": [
    {
     "data": {
      "text/plain": [
       "4"
      ]
     },
     "execution_count": 33,
     "metadata": {},
     "output_type": "execute_result"
    }
   ],
   "source": [
    "sum([3,9,1,8,5,2,6]) // 7"
   ]
  }
 ],
 "metadata": {
  "kernelspec": {
   "display_name": "base",
   "language": "python",
   "name": "python3"
  },
  "language_info": {
   "codemirror_mode": {
    "name": "ipython",
    "version": 3
   },
   "file_extension": ".py",
   "mimetype": "text/x-python",
   "name": "python",
   "nbconvert_exporter": "python",
   "pygments_lexer": "ipython3",
   "version": "3.12.2"
  }
 },
 "nbformat": 4,
 "nbformat_minor": 2
}
