{
 "cells": [
  {
   "cell_type": "markdown",
   "metadata": {},
   "source": [
    "## Two Pointers\n"
   ]
  },
  {
   "cell_type": "markdown",
   "metadata": {},
   "source": [
    "Implementations:\n",
    "- ```i,j = 0,len(s)-1```\n",
    "- \n",
    "- ``` while i<j```\n",
    "- ....\n",
    "- ```i+=1, j-=1```\n",
    "\n",
    "Complexity:\n",
    "$O(n)$\n"
   ]
  },
  {
   "cell_type": "markdown",
   "metadata": {},
   "source": [
    "#### Example1: Palindrome\n",
    "\n",
    "- Time Complexity: O(n)\n",
    "    - initialized at a distance of n and move 1 step closer each step\n",
    "- Space Complexity: O(1)\n",
    "    - constant number of additional memory"
   ]
  },
  {
   "cell_type": "code",
   "execution_count": 5,
   "metadata": {},
   "outputs": [],
   "source": [
    "#given string s, return true if palindrom, false if not\n",
    "def is_palindrom(s):\n",
    "#only uses 2 integer variables\n",
    "    i,j = 0, len(s)-1\n",
    "    while i < j:\n",
    "        if s[i] != s[j]:\n",
    "            return False\n",
    "        i+=1\n",
    "        j-=1\n",
    "    \n",
    "    return True\n",
    "\n",
    "assert is_palindrom(\"aaaaaa\") == True\n",
    "assert is_palindrom(\"abssba\") == True\n",
    "assert is_palindrom(\"abc\") == False"
   ]
  },
  {
   "cell_type": "markdown",
   "metadata": {},
   "source": [
    "#### Example2: Summing to Target\n",
    "- input:\n",
    "    - sorted array of unique integers\n",
    "    - target\n",
    "- output:\n",
    "    - bool\n",
    "    - `True` if pair add up to `target`\n",
    "- implementation:\n",
    "    - start with i=0, j=len(s)-1\n",
    "    - compare `sum(pair)` with `target`\n",
    "        - if bigger, move `starting` pointer\n",
    "        - if smaller, move `ending` pointer\n",
    "- complexity:\n",
    "    - space: $O(1)$\n",
    "    - time: $O(n)$"
   ]
  },
  {
   "cell_type": "code",
   "execution_count": 9,
   "metadata": {},
   "outputs": [
    {
     "data": {
      "text/plain": [
       "True"
      ]
     },
     "execution_count": 9,
     "metadata": {},
     "output_type": "execute_result"
    }
   ],
   "source": [
    "def check_sum_target(input_array,target):\n",
    "    i,j = 0, len(input_array)-1\n",
    "    while i < j:\n",
    "        temp_sum = input_array[i] + input_array[j]\n",
    "        if target == temp_sum:\n",
    "            return True\n",
    "        elif target > temp_sum:\n",
    "            i+=1\n",
    "        else:\n",
    "            j-=1\n",
    "    \n",
    "    return False\n",
    "    "
   ]
  },
  {
   "cell_type": "markdown",
   "metadata": {},
   "source": [
    "#### Example 3: Combining sorted arrays\n",
    "- input:\n",
    "    - sorted array1\n",
    "    - sorted array2\n",
    "- output:\n",
    "    - combined sorted array\n",
    "\n",
    "- implementation:\n",
    "    - `pointer_i` for `arr1`, `pointer_j` for `arr2`\n",
    "    - compare `arr1[i]` with `arr2[j]`\n",
    "    - append the smaller one\n",
    "    - increment corresponding `pointer` after appending"
   ]
  },
  {
   "cell_type": "code",
   "execution_count": 16,
   "metadata": {},
   "outputs": [
    {
     "data": {
      "text/plain": [
       "[1, 3, 4, 5]"
      ]
     },
     "execution_count": 16,
     "metadata": {},
     "output_type": "execute_result"
    }
   ],
   "source": [
    "def combine_sorted_arrays(arr1,arr2):\n",
    "    i,j = 0,0\n",
    "    arr = []\n",
    "    while (i < len(arr1)) and (j < len(arr2)):\n",
    "        if arr1[i] < arr2[j]:\n",
    "            arr.append(arr1[i])\n",
    "            i += 1\n",
    "        else:\n",
    "            arr.append(arr2[j])\n",
    "            j += 1\n",
    "    while i < len(arr1):\n",
    "        arr.append(arr1[i])\n",
    "        i+=1\n",
    "    while j < len(arr2):\n",
    "        arr.append(arr2[j])\n",
    "        j+=1\n",
    "\n",
    "    \n",
    "    return arr\n",
    "        \n",
    "\n",
    "combine_sorted_arrays([1,3,5],[4])\n",
    "\n"
   ]
  },
  {
   "cell_type": "markdown",
   "metadata": {},
   "source": [
    "#### Example 4: Is Subsequence\n",
    "\n",
    "- input: string `s` and `t`\n",
    "- ouput:\n",
    "    - bool\n",
    "    - `True` if `s` is subsequence of `t`\n",
    "    - `False` otherwise\n"
   ]
  },
  {
   "cell_type": "code",
   "execution_count": 20,
   "metadata": {},
   "outputs": [
    {
     "data": {
      "text/plain": [
       "True"
      ]
     },
     "execution_count": 20,
     "metadata": {},
     "output_type": "execute_result"
    }
   ],
   "source": [
    "def check_is_subsequence(s,t):\n",
    "    i = j = 0\n",
    "    while i < len(s) and j < len(t):\n",
    "        if s[i] == t[j]:\n",
    "            i+=1\n",
    "        j+=1\n",
    "\n",
    "    #if j < len(t) hit but i < len(s) not, meaning looped thru the entire t string but unable to find substring s\n",
    "    #if i < len(s) hit but j < len(t) not, meaning exhausted substring s within t string\n",
    "    return i==len(s)\n",
    "\n",
    "check_is_subsequence(\"abd\",\"cabda\")"
   ]
  },
  {
   "cell_type": "markdown",
   "metadata": {},
   "source": [
    "### Summary:\n",
    "- p1___array___p2\n",
    "- p1__array1; p2__array2\n",
    "- p1(p2)___array\n",
    "- array__p1(p2)"
   ]
  },
  {
   "cell_type": "markdown",
   "metadata": {},
   "source": [
    "### Exercises:\n"
   ]
  },
  {
   "cell_type": "markdown",
   "metadata": {},
   "source": [
    "##### Reverse String (in-place)\n",
    "![img](image.png)"
   ]
  },
  {
   "cell_type": "code",
   "execution_count": 2,
   "metadata": {},
   "outputs": [
    {
     "data": {
      "text/plain": [
       "['g', 'n', 'i', 'r', 't', 's']"
      ]
     },
     "execution_count": 2,
     "metadata": {},
     "output_type": "execute_result"
    }
   ],
   "source": [
    "### Reverse String\n",
    "test_string = [*\"string\"]\n",
    "def reverse_string(s_list):\n",
    "    #initialize 2-pointer, one from beginning one from the end\n",
    "    #at each step, swap the element at each pointer\n",
    "    i,j = 0,len(s_list)-1\n",
    "    while i < j:\n",
    "        s_list[i], s_list[j] = s_list[j], s_list[i]\n",
    "        i+=1\n",
    "        j-=1\n",
    "    \n",
    "    return s_list\n",
    "\n",
    "reverse_string(test_string)\n",
    "        "
   ]
  },
  {
   "cell_type": "markdown",
   "metadata": {},
   "source": [
    "##### Sorting squares of non-decreasing number in non-decreasing order"
   ]
  },
  {
   "cell_type": "code",
   "execution_count": 8,
   "metadata": {},
   "outputs": [],
   "source": [
    "def sort_squares(nums):\n",
    "    #initialize 2-pointer, one at beginning one at the end\n",
    "    #comparing element at each pointer at each step\n",
    "    #move the larger one to the end\n",
    "    i,j = 0,len(nums)-1\n",
    "    out = []\n",
    "    while i <= j: #!todo notice the \"=\"\n",
    "        square_i,square_j = nums[i]**2, nums[j]**2\n",
    "        if square_i > square_j:\n",
    "            out.insert(0,square_i)\n",
    "            i+=1\n",
    "        else:\n",
    "            out.insert(0,square_j)\n",
    "            j-=1\n",
    "    \n",
    "    return out\n",
    "\n",
    "\n",
    "        \n",
    "\n",
    "    \n",
    "test_nums = [-5,-2,1,2]\n",
    "assert sort_squares(test_nums) == [1,4,4,25]"
   ]
  }
 ],
 "metadata": {
  "kernelspec": {
   "display_name": "base",
   "language": "python",
   "name": "python3"
  },
  "language_info": {
   "codemirror_mode": {
    "name": "ipython",
    "version": 3
   },
   "file_extension": ".py",
   "mimetype": "text/x-python",
   "name": "python",
   "nbconvert_exporter": "python",
   "pygments_lexer": "ipython3",
   "version": "3.12.2"
  }
 },
 "nbformat": 4,
 "nbformat_minor": 2
}
