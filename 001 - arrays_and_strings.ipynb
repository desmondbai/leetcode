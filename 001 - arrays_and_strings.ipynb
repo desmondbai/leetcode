{
 "cells": [
  {
   "cell_type": "markdown",
   "metadata": {},
   "source": [
    "### Building Strings\n",
    "- concatenating strings: $O(n^2)$\n",
    "```python\n",
    "s = 'astring'\n",
    "for _ in range(100):\n",
    "    s+='s'\n",
    "```"
   ]
  },
  {
   "cell_type": "markdown",
   "metadata": {
    "vscode": {
     "languageId": "plaintext"
    }
   },
   "source": [
    "- building string from concatenated list: $O(n)$\n",
    "```python\n",
    "s = [*'astring']\n",
    "for _ in range(100):\n",
    "    s.append('s')\n",
    "\n",
    "''.join(s)\n",
    "```"
   ]
  },
  {
   "cell_type": "markdown",
   "metadata": {},
   "source": [
    "### Bonus Exercises"
   ]
  },
  {
   "cell_type": "markdown",
   "metadata": {
    "vscode": {
     "languageId": "plaintext"
    }
   },
   "source": [
    "1. **Reverse words in a string**  \n",
    "reverse ordering of letters in a word while preserving white spaces and word order in the sentence"
   ]
  },
  {
   "cell_type": "code",
   "execution_count": 25,
   "metadata": {},
   "outputs": [],
   "source": [
    "def reverse_words(s):\n",
    "    #step1, split sentence into tokens\n",
    "    #step2, reverse letters in each token\n",
    "    #step3, join reversed words with spaces\n",
    "    tokens = s.split(\" \")\n",
    "    reversed_tokens = []\n",
    "    for token in tokens:\n",
    "        token = [*token]\n",
    "        i,j = 0,len(token)-1\n",
    "        while i < j:\n",
    "            token[i], token[j] = token[j], token[i]\n",
    "            i+=1\n",
    "            j-=1\n",
    "        reversed_tokens.append(\"\".join(token))\n",
    "    return \" \".join(reversed_tokens)\n",
    "\n",
    "assert reverse_words(\"Let's take LeetCode contest\") == \"s'teL ekat edoCteeL tsetnoc\"\n",
    "            \n"
   ]
  },
  {
   "cell_type": "markdown",
   "metadata": {},
   "source": [
    "2. **Reverse alphabets**  \n",
    "reverse only alpabetic characters, keeping special symbols unchanged"
   ]
  },
  {
   "cell_type": "code",
   "execution_count": 24,
   "metadata": {},
   "outputs": [],
   "source": [
    "def reverse_alpabetic(s):\n",
    "    #unpack a string into list\n",
    "    s_list = [*s]\n",
    "    i,j = 0,len(s_list)-1\n",
    "    while i < j:\n",
    "        if not s_list[i].isalpha():\n",
    "            i+=1\n",
    "            continue\n",
    "        if not s_list[j].isalpha():\n",
    "            j-=1\n",
    "            continue\n",
    "        s_list[i],s_list[j] = s_list[j],s_list[i]\n",
    "        i+=1\n",
    "        j-=1\n",
    "    \n",
    "    return \"\".join(s_list)\n",
    "\n",
    "\n",
    "assert reverse_alpabetic(\"a-bC-dEf-ghIj\") == 'j-Ih-gfE-dCba'"
   ]
  },
  {
   "cell_type": "markdown",
   "metadata": {},
   "source": [
    "3. **Minimum Common Value**  \n",
    "return minimum common integer value stored in 2 non-decreasing number list, return -1 if there's none\n",
    "\n",
    "- Two-pointer approach\n",
    "- My approach"
   ]
  },
  {
   "cell_type": "code",
   "execution_count": 23,
   "metadata": {},
   "outputs": [],
   "source": [
    "#two-pointer approach\n",
    "def find_minimum_common_value(nums1,nums2):\n",
    "    min_value = max(nums1[-1],nums2[-1])\n",
    "    i,j = 0,0\n",
    "    while i < len(nums1) and j < len(nums1):\n",
    "        if nums1[i] < nums2[j]:\n",
    "            i+=1\n",
    "        elif nums1[i] > nums2[j]:\n",
    "            j+=1\n",
    "        else:\n",
    "            min_value = min(nums1[i],min_value)\n",
    "            i+=1\n",
    "            j+=1\n",
    "        \n",
    "    while i < len(nums1):\n",
    "        #this is the case where nums1 is not exhausted, then j must be exhausted hence only chance is j's largest\n",
    "        if nums1[i] == nums2[-1]: \n",
    "            min_value = min(nums1[i],min_value)\n",
    "        i+=1\n",
    "    while j < len(nums2):\n",
    "        #this is the case where nums2 is not exhausted, then i must be exhausted hence only chance is i's largest\n",
    "        if nums1[-1] == nums2[j]:\n",
    "            min_value = min(nums2[j],min_value)\n",
    "        j+=1\n",
    "    \n",
    "    return min_value\n",
    "\n",
    "assert find_minimum_common_value([1,2,3],[2,4]) == 2\n",
    "assert find_minimum_common_value([1,2,3,6],[2,3,4,5]) == 2\n",
    "\n",
    "\n",
    "\n",
    "#my approach\n"
   ]
  },
  {
   "cell_type": "markdown",
   "metadata": {},
   "source": [
    "4. **Move Zeroes**  \n",
    "\n",
    "Given an integer array nums, move all 0's to the end of it while maintaining the relative order of the non-zero elements.  \n",
    "\n",
    "Note that you must do this in-place without making a copy of the array.\n",
    "\n"
   ]
  },
  {
   "cell_type": "markdown",
   "metadata": {},
   "source": [
    "#### Idea\n",
    "- move any non-zero entries up to the front\n",
    "- steps:\n",
    "    - initialize pointers `left` and `right`\n",
    "    - iterate `right` pointer through list\n",
    "        - once it sees a non-zero entry\n",
    "        - swap with `left`\n",
    "        - increment `left`"
   ]
  },
  {
   "cell_type": "code",
   "execution_count": 26,
   "metadata": {},
   "outputs": [
    {
     "name": "stdout",
     "output_type": "stream",
     "text": [
      "[1]\n",
      "[1, 2, 3, 4]\n",
      "[1, 2, 3, 4, 0, 0, 0]\n",
      "[1, 2, 3, 4, 0, 0, 0, 0]\n",
      "[5, 1, 2, 3, 4, 0, 0, 0, 0]\n"
     ]
    }
   ],
   "source": [
    "def move_zeroes(nums):\n",
    "    left = 0\n",
    "    for right in range(len(nums)):\n",
    "        if nums[right] != 0:\n",
    "            nums[left], nums[right] = nums[right], nums[left]\n",
    "            left += 1\n",
    "    \n",
    "    return nums\n",
    "\n",
    "\n",
    "print(move_zeroes([0,1,0,2,3,0,0,4]))\n",
    "\n",
    "print(move_zeroes([5,0,1,0,2,3,0,0,4]))"
   ]
  }
 ],
 "metadata": {
  "kernelspec": {
   "display_name": "base",
   "language": "python",
   "name": "python3"
  },
  "language_info": {
   "codemirror_mode": {
    "name": "ipython",
    "version": 3
   },
   "file_extension": ".py",
   "mimetype": "text/x-python",
   "name": "python",
   "nbconvert_exporter": "python",
   "pygments_lexer": "ipython3",
   "version": "3.12.2"
  }
 },
 "nbformat": 4,
 "nbformat_minor": 2
}
