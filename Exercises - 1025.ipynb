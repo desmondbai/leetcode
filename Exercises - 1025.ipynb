{
 "cells": [
  {
   "cell_type": "markdown",
   "metadata": {},
   "source": [
    "### Two-pointers"
   ]
  },
  {
   "cell_type": "code",
   "execution_count": 45,
   "metadata": {},
   "outputs": [
    {
     "data": {
      "text/plain": [
       "[0, 1, 4, 9, 16]"
      ]
     },
     "execution_count": 45,
     "metadata": {},
     "output_type": "execute_result"
    }
   ],
   "source": [
    "## Leetcode 977\n",
    "## input: an integer array `nums` sorted in non-decresing order\n",
    "## output: square of integers in `nums` sorted in non-decreasing order\n",
    "## Example: \n",
    "##  input: [-2,-1,0,3,4]\n",
    "##  output: [0,1,4,9,16]\n",
    "\n",
    "\n",
    "def non_decreasing_squares(nums):\n",
    "    i,j = 0,len(nums)-1\n",
    "    out = []\n",
    "    while i <= j:\n",
    "        if nums[i] ** 2 > nums[j] ** 2:\n",
    "            out.insert(0,nums[i]**2) #prepend the larger one\n",
    "            i += 1\n",
    "        else:\n",
    "            out.insert(0,nums[j]**2)\n",
    "            j -= 1\n",
    "    return out\n",
    "non_decreasing_squares([-2,-1,0,3,4])\n"
   ]
  },
  {
   "cell_type": "code",
   "execution_count": 11,
   "metadata": {},
   "outputs": [
    {
     "data": {
      "text/plain": [
       "'blue is sky the'"
      ]
     },
     "execution_count": 11,
     "metadata": {},
     "output_type": "execute_result"
    }
   ],
   "source": [
    "## Leetcode 151\n",
    "## input: a string of words separated by (at least) a space\n",
    "## output: a string of words in reverse order separated by single spaces\n",
    "## Example:\n",
    "##  input: \"the sky is blue\"\n",
    "##  output: \"blue is the sky\"\n",
    "\n",
    "def reverse_words(s):\n",
    "    words = s.split(\" \")\n",
    "    reversed = []\n",
    "    while words:\n",
    "        reversed.append(words.pop())\n",
    "    \n",
    "    return \" \".join(reversed)\n",
    "        \n",
    "\n",
    "\n",
    "reverse_words(\"the sky is blue\")\n",
    "        \n"
   ]
  },
  {
   "cell_type": "markdown",
   "metadata": {},
   "source": [
    "### Dynamic Programming"
   ]
  },
  {
   "cell_type": "code",
   "execution_count": 12,
   "metadata": {},
   "outputs": [
    {
     "data": {
      "text/plain": [
       "6"
      ]
     },
     "execution_count": 12,
     "metadata": {},
     "output_type": "execute_result"
    }
   ],
   "source": [
    "## Leetcode 152: maximum product of subarray\n",
    "## input: number array\n",
    "## output: largest product of subarray\n",
    "\n",
    "def maxProduct(nums):\n",
    "    if not nums:\n",
    "        return 0\n",
    "    \n",
    "    max_product = min_product = result = nums[0]\n",
    "    \n",
    "    for num in nums[1:]:\n",
    "        if num < 0:\n",
    "            max_product, min_product = min_product, max_product\n",
    "        \n",
    "        max_product = max(num, max_product * num)\n",
    "        min_product = min(num, min_product * num)\n",
    "        \n",
    "        result = max(result, max_product)\n",
    "    \n",
    "    return result\n",
    "\n",
    "\n",
    "\n",
    "maxProduct([.1,.2,1,2,3])"
   ]
  },
  {
   "cell_type": "markdown",
   "metadata": {},
   "source": [
    "### Hashing"
   ]
  },
  {
   "cell_type": "code",
   "execution_count": 26,
   "metadata": {},
   "outputs": [
    {
     "data": {
      "text/plain": [
       "False"
      ]
     },
     "execution_count": 26,
     "metadata": {},
     "output_type": "execute_result"
    }
   ],
   "source": [
    "#Leetcode 383: ransomNote\n",
    "#inputs: \n",
    "    #ransomNote -> string\n",
    "    #magazine -> string\n",
    "#output -> bool\n",
    "    #true if ransomNote can be replicated from words in magazine (with each letter being irreusable)\n",
    "    #false if note\n",
    "\n",
    "from collections import Counter\n",
    "def canConstruct(ransomNote,magazine):\n",
    "    note_counter = Counter(ransomNote)\n",
    "    magazine_counter = Counter(magazine)\n",
    "    for c in note_counter:\n",
    "        if note_counter[c] > magazine_counter.get(c,0):\n",
    "            return False\n",
    "    \n",
    "    return True\n",
    "    \n",
    "\n",
    "canConstruct(\"aa\",\"ab\")"
   ]
  },
  {
   "cell_type": "code",
   "execution_count": 27,
   "metadata": {},
   "outputs": [
    {
     "data": {
      "text/plain": [
       "3"
      ]
     },
     "execution_count": 27,
     "metadata": {},
     "output_type": "execute_result"
    }
   ],
   "source": [
    "#Leetcode 771: Jewels and Stones\n",
    "#inputs: \n",
    "    #jewels -> string\n",
    "    #stones -> string\n",
    "#outputs:\n",
    "    #n_jewels -> int\n",
    "#Explanations:\n",
    "#`jewel` indicates what type of letters are jewels and, `stones` is collection you have\n",
    "# count how many of your collection of stones are actually jewels\n",
    "\n",
    "def count_jewels_from_stones(jewls,stones):\n",
    "    jewel_set = set(jewels)\n",
    "    cnt = 0\n",
    "    for stone in stones:\n",
    "        if stone in jewel_set:\n",
    "            cnt += 1\n",
    "    \n",
    "\n",
    "    return cnt\n",
    "\n",
    "\n",
    "count_jewels_from_stones(\"aA\",\"aAAbbbb\")"
   ]
  },
  {
   "cell_type": "markdown",
   "metadata": {},
   "source": [
    "### Sliding Window"
   ]
  },
  {
   "cell_type": "code",
   "execution_count": 39,
   "metadata": {},
   "outputs": [
    {
     "data": {
      "text/plain": [
       "1"
      ]
     },
     "execution_count": 39,
     "metadata": {},
     "output_type": "execute_result"
    }
   ],
   "source": [
    "#Longest substring without repeating chars\n",
    "#inputs:\n",
    "    # s: string\n",
    "#output:\n",
    "    # length: integer\n",
    "#explanation:\n",
    "    # return the longest substring without repeating characters\n",
    "\n",
    "def longest_heterogram(s):\n",
    "    if len(s) == 1:\n",
    "        return 1\n",
    "    max_len = left = 0\n",
    "    for right in range(1,len(s)):\n",
    "        while s[right] in s[left:right]:\n",
    "            left += 1\n",
    "        max_len = max(max_len,right - left + 1)\n",
    "    \n",
    "    return max_len\n",
    "\n",
    "\n",
    "\n",
    "longest_heterogram(\"aa\")\n",
    "\n"
   ]
  },
  {
   "cell_type": "code",
   "execution_count": null,
   "metadata": {},
   "outputs": [],
   "source": []
  }
 ],
 "metadata": {
  "kernelspec": {
   "display_name": "base",
   "language": "python",
   "name": "python3"
  },
  "language_info": {
   "codemirror_mode": {
    "name": "ipython",
    "version": 3
   },
   "file_extension": ".py",
   "mimetype": "text/x-python",
   "name": "python",
   "nbconvert_exporter": "python",
   "pygments_lexer": "ipython3",
   "version": "3.12.2"
  }
 },
 "nbformat": 4,
 "nbformat_minor": 2
}
