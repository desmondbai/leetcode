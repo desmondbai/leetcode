{
 "cells": [
  {
   "cell_type": "markdown",
   "metadata": {},
   "source": [
    "## Sliding Window\n"
   ]
  },
  {
   "cell_type": "markdown",
   "metadata": {
    "vscode": {
     "languageId": "plaintext"
    }
   },
   "source": [
    " Find the **`n/best`** **`valid`** **`subarray`**\n",
    "\n",
    "- subarrays:\n",
    "    - aka window\n",
    "    - defined by `start` and `end` index\n",
    "- valid:\n",
    "    - constraint metric:\n",
    "        - sum\n",
    "        - Nunique\n",
    "        - Freq(x)\n",
    "    - criteria of metric:\n",
    "        - sum > 5\n",
    "        - Nunique < 3\n",
    "        - Freq(x) = 2\n",
    "- n/best:\n",
    "    - longest / shortest\n",
    "    - find number of arrays\n",
    "\n",
    "\n",
    "Basic Idea:\n",
    "- Consider only valid windows, once rule violated, use `while_loop` to qualify window, update answer after while loop"
   ]
  },
  {
   "cell_type": "markdown",
   "metadata": {},
   "source": [
    "Sliding window algorithms have while loops inside for loops. Why is the time complexity still O(n)?\n",
    "\n",
    "- The while loop can only iterate n times in total, so we say the work inside the for loop is amortized O(1)."
   ]
  },
  {
   "cell_type": "markdown",
   "metadata": {},
   "source": [
    "#### Pseudo-code"
   ]
  },
  {
   "cell_type": "markdown",
   "metadata": {
    "vscode": {
     "languageId": "plaintext"
    }
   },
   "source": [
    "```\n",
    "function fn(arr):\n",
    "    left = 0\n",
    "    for (int right = 0; right < arr.length; right++):\n",
    "        Do some logic to \"add\" element at arr[right] to window\n",
    "\n",
    "        while WINDOW_IS_INVALID:\n",
    "            Do some logic to \"remove\" element at arr[left] from window\n",
    "            left++\n",
    "\n",
    "        Do some logic to update the answer\n",
    "```"
   ]
  },
  {
   "cell_type": "markdown",
   "metadata": {},
   "source": [
    "### Implmentation\n",
    "\n",
    "1. longest array which has sum of ele equal to k\n",
    "- constraint metric: `sum`\n",
    "- criteria of metric: `equal to k`\n",
    "- target: `find longest`"
   ]
  },
  {
   "cell_type": "markdown",
   "metadata": {},
   "source": [
    "```\n",
    "0    1     2      3      4\n",
    "[1][1,2][1,2,3][2,3,4][4,6]\n",
    "          [2,3]  [3,4]  [6]\n",
    "                   [4]   []\n",
    "```            "
   ]
  },
  {
   "cell_type": "code",
   "execution_count": 5,
   "metadata": {},
   "outputs": [
    {
     "data": {
      "text/plain": [
       "(2, 4, 5)"
      ]
     },
     "execution_count": 5,
     "metadata": {},
     "output_type": "execute_result"
    }
   ],
   "source": [
    "def find_longest_array_of_sum(nums,k):\n",
    "    i,j,curr,max_len = 0,0,0,0\n",
    "    for j in range(len(nums)):\n",
    "        curr += nums[j]\n",
    "        while curr > k:\n",
    "            curr -= nums[i]\n",
    "            i+=1\n",
    "        if curr == k:\n",
    "            cur_len = j - i + 1\n",
    "            if cur_len > max_len:\n",
    "                max_len = cur_len\n",
    "    \n",
    "    return max_len\n",
    "\n",
    "\n",
    "\n",
    "find_longest_array_of_sum([1,2,3,4,6],5)\n",
    "            \n"
   ]
  },
  {
   "cell_type": "markdown",
   "metadata": {},
   "source": [
    "2. Number of arrays having product of elements less than k\n",
    "- constraint: `product`\n",
    "- criteria: `less than k`\n",
    "- target: `find n`\n",
    "- trick: n subarrays ending at `right`: `right-left+1`"
   ]
  },
  {
   "cell_type": "markdown",
   "metadata": {},
   "source": [
    "[10,5,2,6]\n",
    "\n",
    "[10]\n",
    "[10] = 1\n",
    "\n",
    "\n",
    "[10,5]\n",
    "[5],[10,5] = 2\n",
    "\n",
    "\n",
    "[10,5,2] : invalid\n",
    "\n",
    "[5,2]\n",
    "[2],[5,2] = 2\n",
    "\n",
    "\n",
    "[5,2,6]\n",
    "[6],[2,6],[5,2,6] = 3\n",
    "\n",
    "\n"
   ]
  },
  {
   "cell_type": "code",
   "execution_count": 7,
   "metadata": {},
   "outputs": [
    {
     "data": {
      "text/plain": [
       "8"
      ]
     },
     "execution_count": 7,
     "metadata": {},
     "output_type": "execute_result"
    }
   ],
   "source": [
    "def find_n_subarrays(nums,k):\n",
    "    i=cnt=0\n",
    "    curr = 1\n",
    "    for j in range(len(nums)):\n",
    "        curr *= nums[j]\n",
    "        while curr >= k:\n",
    "            curr//=nums[i]\n",
    "            i+=1\n",
    "        cnt += (j-i+1) #counting subarrays ending at j (right index)\n",
    "    return cnt\n",
    "\n",
    "\n",
    "find_n_subarrays([10,5,2,6],100)"
   ]
  },
  {
   "cell_type": "markdown",
   "metadata": {},
   "source": [
    "3. Return largest sum of subarray with length k in a number list"
   ]
  },
  {
   "cell_type": "code",
   "execution_count": 19,
   "metadata": {},
   "outputs": [
    {
     "data": {
      "text/plain": [
       "24"
      ]
     },
     "execution_count": 19,
     "metadata": {},
     "output_type": "execute_result"
    }
   ],
   "source": [
    "def find_maxsum_subarray(nums,k):\n",
    "    curr=0\n",
    "    for i in range(k):\n",
    "        curr+=nums[i]\n",
    "    ans = curr\n",
    "    for j in range(k,len(nums)):\n",
    "        curr += (nums[j]-nums[j-k])\n",
    "        if curr > ans:\n",
    "            ans = curr\n",
    "    return ans\n",
    "\n",
    "\n",
    "find_maxsum_subarray([1,2,8,4,12,3,6],3)\n",
    "\n",
    "        \n"
   ]
  },
  {
   "cell_type": "markdown",
   "metadata": {},
   "source": [
    "4. Maximum Average Subarray"
   ]
  },
  {
   "cell_type": "code",
   "execution_count": 48,
   "metadata": {},
   "outputs": [
    {
     "data": {
      "text/plain": [
       "12.75"
      ]
     },
     "execution_count": 48,
     "metadata": {},
     "output_type": "execute_result"
    }
   ],
   "source": [
    "#same as maximum sum\n",
    "def find_maxavg_subarray(nums,k):\n",
    "    curr=0\n",
    "    for i in range(k):\n",
    "        curr+=nums[i]\n",
    "    ans = curr\n",
    "    for j in range(k,len(nums)):\n",
    "        curr += (nums[j]-nums[j-k])\n",
    "        if curr > ans:\n",
    "            ans = curr\n",
    "    return ans/k\n",
    "\n",
    "\n",
    "find_maxavg_subarray([1,12,-5,-6,50,3],4)\n"
   ]
  },
  {
   "cell_type": "markdown",
   "metadata": {},
   "source": [
    "5. Maximum length of consecutive 1s by flipping k 0s to 1s."
   ]
  },
  {
   "cell_type": "code",
   "execution_count": 49,
   "metadata": {},
   "outputs": [
    {
     "data": {
      "text/plain": [
       "6"
      ]
     },
     "execution_count": 49,
     "metadata": {},
     "output_type": "execute_result"
    }
   ],
   "source": [
    "#given the option of flipping at most k 0s to 1\n",
    "#return the maximum number of continuous 1s in a number list\n",
    "def consecutive_ones(nums,k):\n",
    "    \"\"\"_summary_\n",
    "\n",
    "    Args:\n",
    "        nums (_type_): number list to find consecutive 1s from\n",
    "        k (_type_): maximum number of 1s to flip to 0\n",
    "    \"\"\"\n",
    "    ## interpretation:\n",
    "    ## subarray containing at most k 0s\n",
    "    ## constraint: count(0)\n",
    "    ## criteria: <= k\n",
    "    ## target: find max length\n",
    "    left = 0\n",
    "    cnt_zeros = 0\n",
    "    max_len = 0\n",
    "    for right in range(len(nums)):\n",
    "        cnt_zeros += 1 if nums[right] == 0 else 0\n",
    "        while cnt_zeros > k:\n",
    "            cnt_zeros -= 1 if nums[left] == 0 else 0\n",
    "            left += 1\n",
    "        max_len = max(max_len,right-left+1)\n",
    "    \n",
    "    return max_len\n",
    "        \n",
    "\n",
    "consecutive_ones([1,1,0,1,0,0,0,1],3)"
   ]
  },
  {
   "cell_type": "code",
   "execution_count": null,
   "metadata": {},
   "outputs": [],
   "source": [
    "#given string s, return true if palindrom, false if not\n",
    "def is_palindrom(s):\n",
    "#only uses 2 integer variables\n",
    "    i,j = 0, len(s)-1\n",
    "    while i < j:\n",
    "        if s[i] != s[j]:\n",
    "            return False\n",
    "        i+=1\n",
    "        j-=1\n",
    "    \n",
    "    return True\n",
    "\n",
    "assert is_palindrom(\"aaaaaa\") == True\n",
    "assert is_palindrom(\"abssba\") == True\n",
    "assert is_palindrom(\"abc\") == False"
   ]
  },
  {
   "cell_type": "code",
   "execution_count": null,
   "metadata": {},
   "outputs": [],
   "source": [
    "def check_sum_target(input_array,target):\n",
    "    i,j = 0, len(input_array)-1\n",
    "    while i < j:\n",
    "        temp_sum = input_array[i] + input_array[j]\n",
    "        if target == temp_sum:\n",
    "            return True\n",
    "        elif target > temp_sum:\n",
    "            i+=1\n",
    "        else:\n",
    "            j-=1\n",
    "    \n",
    "    return False\n",
    "    "
   ]
  },
  {
   "cell_type": "code",
   "execution_count": null,
   "metadata": {},
   "outputs": [],
   "source": [
    "def combine_sorted_arrays(arr1,arr2):\n",
    "    i,j = 0,0\n",
    "    arr = []\n",
    "    while (i < len(arr1)) and (j < len(arr2)):\n",
    "        if arr1[i] < arr2[j]:\n",
    "            arr.append(arr1[i])\n",
    "            i += 1\n",
    "        else:\n",
    "            arr.append(arr2[j])\n",
    "            j += 1\n",
    "    while i < len(arr1):\n",
    "        arr.append(arr1[i])\n",
    "        i+=1\n",
    "    while j < len(arr2):\n",
    "        arr.append(arr2[j])\n",
    "        j+=1\n",
    "\n",
    "    \n",
    "    return arr\n",
    "        \n",
    "\n",
    "combine_sorted_arrays([1,3,5],[4])\n",
    "\n"
   ]
  },
  {
   "cell_type": "code",
   "execution_count": null,
   "metadata": {},
   "outputs": [],
   "source": [
    "def check_is_subsequence(s,t):\n",
    "    i = j = 0\n",
    "    while i < len(s) and j < len(t):\n",
    "        if s[i] == t[j]:\n",
    "            i+=1\n",
    "        j+=1\n",
    "\n",
    "    #if j < len(t) hit but i < len(s) not, meaning looped thru the entire t string but unable to find substring s\n",
    "    #if i < len(s) hit but j < len(t) not, meaning exhausted substring s within t string\n",
    "    return i==len(s)\n",
    "\n",
    "check_is_subsequence(\"abd\",\"cabda\")"
   ]
  },
  {
   "cell_type": "code",
   "execution_count": null,
   "metadata": {},
   "outputs": [],
   "source": [
    "### Reverse String\n",
    "test_string = [*\"string\"]\n",
    "def reverse_string(s_list):\n",
    "    #initialize 2-pointer, one from beginning one from the end\n",
    "    #at each step, swap the element at each pointer\n",
    "    i,j = 0,len(s_list)-1\n",
    "    while i < j:\n",
    "        s_list[i], s_list[j] = s_list[j], s_list[i]\n",
    "        i+=1\n",
    "        j-=1\n",
    "    \n",
    "    return s_list\n",
    "\n",
    "reverse_string(test_string)\n",
    "        "
   ]
  },
  {
   "cell_type": "code",
   "execution_count": null,
   "metadata": {},
   "outputs": [],
   "source": [
    "def sort_squares(nums):\n",
    "    #initialize 2-pointer, one at beginning one at the end\n",
    "    #comparing element at each pointer at each step\n",
    "    #move the larger one to the end\n",
    "    i,j = 0,len(nums)-1\n",
    "    out = []\n",
    "    while i <= j: #!todo notice the \"=\"\n",
    "        square_i,square_j = nums[i]**2, nums[j]**2\n",
    "        if square_i > square_j:\n",
    "            out.insert(0,square_i)\n",
    "            i+=1\n",
    "        else:\n",
    "            out.insert(0,square_j)\n",
    "            j-=1\n",
    "    \n",
    "    return out\n",
    "\n",
    "\n",
    "        \n",
    "\n",
    "    \n",
    "test_nums = [-5,-2,1,2]\n",
    "assert sort_squares(test_nums) == [1,4,4,25]"
   ]
  }
 ],
 "metadata": {
  "kernelspec": {
   "display_name": "base",
   "language": "python",
   "name": "python3"
  },
  "language_info": {
   "codemirror_mode": {
    "name": "ipython",
    "version": 3
   },
   "file_extension": ".py",
   "mimetype": "text/x-python",
   "name": "python",
   "nbconvert_exporter": "python",
   "pygments_lexer": "ipython3",
   "version": "3.12.2"
  }
 },
 "nbformat": 4,
 "nbformat_minor": 2
}
