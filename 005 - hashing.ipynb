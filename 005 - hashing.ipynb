{
 "cells": [
  {
   "cell_type": "markdown",
   "metadata": {},
   "source": [
    "### Quick note on data structures\n",
    "\n",
    "**format for organizing data in an efficient way**\n",
    "\n",
    "technically:\n",
    "- interface\n",
    "    - expected input\n",
    "    - operation\n",
    "    - expected output\n",
    "- implementation\n",
    "    - code that make things possible\n",
    "\n",
    "generally:\n",
    "- knowing `interface` would be enough to crack interviews"
   ]
  },
  {
   "cell_type": "markdown",
   "metadata": {},
   "source": [
    "### Hashing\n",
    "\n",
    "takes `input` and `deterministically` converts it into an integer that is less than a `fixed size` set by the programmer\n",
    "- input:\n",
    "    - can be anything, strings, arrays...\n",
    "- deterministic:\n",
    "    - same input results in same conversion\n",
    "- fixed size limit:\n",
    "    - set an value x\n",
    "    - useful for predictable bucket range\n",
    "\n",
    "\n",
    "##### Example\n"
   ]
  },
  {
   "cell_type": "code",
   "execution_count": 6,
   "metadata": {},
   "outputs": [
    {
     "data": {
      "text/plain": [
       "2"
      ]
     },
     "execution_count": 6,
     "metadata": {},
     "output_type": "execute_result"
    }
   ],
   "source": [
    "def hashing_string_example(s,x):\n",
    "    \"\"\"_summary_\n",
    "\n",
    "    Args:\n",
    "        s (_type_): the string to be hashed\n",
    "        x (_type_): the limit we set\n",
    "    \"\"\"\n",
    "    total = 0\n",
    "    for i, c in enumerate(s):\n",
    "        pos = ord(c) - ord(\"a\") + 1\n",
    "        total += pos*i\n",
    "    \n",
    "    return total % x\n",
    "\n",
    "\n",
    "hashing_string_example(\"abcdefg\",10)\n",
    "\n"
   ]
  },
  {
   "cell_type": "markdown",
   "metadata": {},
   "source": [
    "##### Why"
   ]
  },
  {
   "cell_type": "markdown",
   "metadata": {},
   "source": [
    "- Access & Update `array`: $O(1)$\n",
    "- Constraints:\n",
    "    - fixed size\n",
    "    - indices `integer`\n",
    "- Hashmap solves by:\n",
    "    - any inputs `---hashing----->` ind(index) `----access memory location---->` value\n"
   ]
  },
  {
   "cell_type": "markdown",
   "metadata": {},
   "source": [
    "### Exercises\n",
    "\n",
    "1.  Check Pangram"
   ]
  },
  {
   "cell_type": "code",
   "execution_count": 9,
   "metadata": {},
   "outputs": [
    {
     "name": "stdout",
     "output_type": "stream",
     "text": [
      "True\n",
      "False\n"
     ]
    }
   ],
   "source": [
    "\n",
    "def check_pangram(sentence):\n",
    "    search_letters = {}\n",
    "    for char in sentence:\n",
    "        search_letters[char] = search_letters.get(char,True)\n",
    "    \n",
    "    return len(search_letters.keys()) == 26\n",
    "    \n",
    "\n",
    "print(check_pangram(\"thequickbrownfoxjumpsoverthelazydog\"))\n",
    "print(check_pangram(\"leetcode\"))\n"
   ]
  },
  {
   "cell_type": "markdown",
   "metadata": {},
   "source": [
    "2. Missing number in a range\n",
    "- input: array of distinct numbers of length n\n",
    "- output: only missing number in the range [0,n]"
   ]
  },
  {
   "cell_type": "code",
   "execution_count": 24,
   "metadata": {},
   "outputs": [],
   "source": [
    "def check_missing_range(nums):\n",
    "    search_range = range(len(nums)+1)\n",
    "    num_set = set(nums)\n",
    "    for num in search_range:\n",
    "        if num not in num_set:\n",
    "            return num\n",
    "        \n",
    "assert check_missing_range([0,3,1]) == 2\n",
    "assert check_missing_range([0,1]) == 2\n",
    "assert check_missing_range([9,6,4,2,3,5,7,0,1])== 8"
   ]
  },
  {
   "cell_type": "markdown",
   "metadata": {},
   "source": [
    "3. Counting elements"
   ]
  },
  {
   "cell_type": "code",
   "execution_count": 26,
   "metadata": {},
   "outputs": [
    {
     "data": {
      "text/plain": [
       "2"
      ]
     },
     "execution_count": 26,
     "metadata": {},
     "output_type": "execute_result"
    }
   ],
   "source": [
    "def count_plus1_elements(nums):\n",
    "    cnt = 0\n",
    "    for num in nums:\n",
    "        if (num + 1) in nums:\n",
    "            cnt+=1\n",
    "    \n",
    "    return cnt\n",
    "\n",
    "\n",
    "count_plus1_elements([1,2,3])"
   ]
  },
  {
   "cell_type": "markdown",
   "metadata": {},
   "source": [
    "4. Players: `all-wins` and `1 loss`\n",
    "- input: \n",
    "    - array of tuples: [`winner`, `loser`]\n",
    "- output:\n",
    "    - tuple: [`players_0loss`, `players_1loss`]\n",
    "- Example:\n",
    "    - input:`[[1,3],[2,3],[3,6],[5,6],[5,7],[4,5],[4,8],[4,9],[10,4],[10,9]]`\n",
    "    - output: `[[1,2,10],[4,5,7,8]]`\n",
    "\n",
    "\n",
    "\n",
    "\n",
    "\n",
    "\n"
   ]
  },
  {
   "cell_type": "code",
   "execution_count": 68,
   "metadata": {},
   "outputs": [
    {
     "name": "stdout",
     "output_type": "stream",
     "text": [
      "[[1, 2, 10], [4, 5, 7, 8]]\n",
      "[[1, 2, 5, 6], []]\n",
      "[[1], [3, 4, 5, 10]]\n",
      "[[1, 2, 10], [8, 4, 5, 7]]\n",
      "[[1, 2, 5, 6], []]\n"
     ]
    }
   ],
   "source": [
    "def find_players(matches):\n",
    "    \"\"\"_summary_\n",
    "    list1: storing players covered up to this point\n",
    "    list2: storing candidate players with 0 defeats\n",
    "    list3: storint candidate players with 1 defeat\n",
    "\n",
    "    iterate thru matches:\n",
    "     if not tuple[0] in list1:\n",
    "        list1.append(tuple[0])\n",
    "     if tuple[1] in list2:\n",
    "        move tuple[1] from list2 to list3\n",
    "     if tuple[1] in list3:\n",
    "        remove tuple[1] from list3\n",
    "     Args:\n",
    "        matches (_type_): _description_\n",
    "    \"\"\"\n",
    "    all_players = set()\n",
    "    champions = set()\n",
    "    one_losses = set()\n",
    "\n",
    "    for winner,loser in matches:\n",
    "        if winner not in all_players:\n",
    "            all_players.add(winner)\n",
    "            champions.add(winner)\n",
    "        if loser in champions:\n",
    "            champions.remove(loser)\n",
    "            one_losses.add(loser)\n",
    "        elif loser in one_losses:\n",
    "            one_losses.remove(loser)\n",
    "        else:\n",
    "            if loser in all_players: #case where loser loses more than 1 game, player not gonna be in champion list and player is also not in one_loss list (since it's already been removed)\n",
    "                pass\n",
    "            else: #first time seeing the player, should be added to both all_players and one_loss\n",
    "                all_players.add(loser)\n",
    "                one_losses.add(loser)\n",
    "        \n",
    "    champions = list(champions)\n",
    "    one_losses = list(one_losses)\n",
    "    champions.sort()\n",
    "    one_losses.sort()\n",
    "\n",
    "    return [champions,one_losses]\n",
    "\n",
    "\n",
    "print(find_players([[1,3],[2,3],[3,6],[5,6],[5,7],[4,5],[4,8],[4,9],[10,4],[10,9]]))\n",
    "print(find_players([[2,3],[1,3],[5,4],[6,4]]))\n",
    "print(find_players([[1,2],[2,3],[3,4],[4,5],[5,10],[10,2]]))\n",
    "\n",
    "\n",
    "\n",
    "#count number of losses for each player while iterating through matches\n",
    "def find_players(matches):\n",
    "    loss_by_player = {}\n",
    "    winners = set()\n",
    "    for winner,loser in matches:\n",
    "        winners.add(winner)\n",
    "        loss_by_player[loser] = loss_by_player.get(loser,0) + 1\n",
    "    \n",
    "    players_all_wins = {player for player in winners if player not in loss_by_player.keys()}\n",
    "    players_one_loss = {player for player in loss_by_player if loss_by_player[player] == 1}\n",
    "    return [list(players_all_wins),list(players_one_loss)]\n",
    "        \n",
    "\n",
    "print(find_players([[1,3],[2,3],[3,6],[5,6],[5,7],[4,5],[4,8],[4,9],[10,4],[10,9]]))\n",
    "print(find_players([[2,3],[1,3],[5,4],[6,4]]))\n"
   ]
  },
  {
   "cell_type": "code",
   "execution_count": 18,
   "metadata": {},
   "outputs": [
    {
     "name": "stdout",
     "output_type": "stream",
     "text": [
      "8\n",
      "-1\n"
     ]
    }
   ],
   "source": [
    "# Largest integer that occur only once\n",
    "\n",
    "def larges_unique_number(nums):\n",
    "    \"\"\"\n",
    "    Given an integer array, return the largest integer that occur only once\n",
    "\n",
    "    Logic:\n",
    "        1. create an empty set\n",
    "        2. iterate thru nums\n",
    "        2. check if num is in set, if in, pass, if not, add it to set, compare against maximum\n",
    "\n",
    "    Args:\n",
    "        nums (_type_): _description_\n",
    "    \"\"\"\n",
    "    nums_dict = {}\n",
    "    for num in nums:\n",
    "        nums_dict[num] = nums_dict.get(num,0) + 1\n",
    "    \n",
    "    unique_nums = [n for n in nums_dict if nums_dict[n]==1]\n",
    "\n",
    "    if len(unique_nums) == 0:\n",
    "        return -1\n",
    "    else:\n",
    "        return max(unique_nums)\n",
    "\n",
    "\n",
    "\n",
    "print(larges_unique_number(nums = [5,7,3,9,4,9,8,3,1]))\n",
    "\n",
    "print(larges_unique_number(nums = [9,9,8,8]))\n"
   ]
  },
  {
   "cell_type": "code",
   "execution_count": 15,
   "metadata": {},
   "outputs": [
    {
     "data": {
      "text/plain": [
       "2"
      ]
     },
     "execution_count": 15,
     "metadata": {},
     "output_type": "execute_result"
    }
   ],
   "source": [
    "#maximum number of balloons\n",
    "from collections import defaultdict\n",
    "\n",
    "\n",
    "def find_n_balloons(text):\n",
    "    \"\"\"\n",
    "    Logic:\n",
    "        1. find n_occurrences for \"balon\" respectively\n",
    "        2. integer divide \"l\" and \"n\" by 2\n",
    "        3. find minimum value in dict\n",
    "    \"\"\"\n",
    "    balloon_dict = {l:0 for l in \"balon\"}\n",
    "\n",
    "    for letter in text:\n",
    "        if letter in balloon_dict.keys():\n",
    "            balloon_dict[letter] += 1\n",
    "    \n",
    "    return min([(n//2 if k in [\"o\",\"l\"] else n) for k,n in balloon_dict.items()])\n",
    "\n",
    "\n",
    "\n",
    "find_n_balloons(\"leetcode\")\n",
    "find_n_balloons(\"balon\")\n",
    "find_n_balloons(\"balloon\")\n",
    "find_n_balloons(\"balloonballoon\")\n"
   ]
  },
  {
   "cell_type": "code",
   "execution_count": 30,
   "metadata": {},
   "outputs": [
    {
     "data": {
      "text/plain": [
       "2"
      ]
     },
     "execution_count": 30,
     "metadata": {},
     "output_type": "execute_result"
    }
   ],
   "source": [
    "#Contiguous array with same number of 0s and 1s\n",
    "def find_longest_subarray(nums):\n",
    "    \"\"\"\n",
    "    Logic:\n",
    "        - treat 0s as -1\n",
    "        - document the sum of subarrays\n",
    "        - the sum of subarrays -> prefixes\n",
    "        - create and populate a list of prefixes\n",
    "        - prepend a 0 to the prefix list\n",
    "        - for each sum in the prefix\n",
    "            - create and populate a dict\n",
    "                - keys: sums\n",
    "                - values: first encounter of that sum\n",
    "                - update value\n",
    "                - update max length\n",
    "    \"\"\"\n",
    "\n",
    "    max_len = 0\n",
    "    prefixes = {0:-1} #this has to be -1, imagine starting at one position ahead of the nums\n",
    "    curr = 0\n",
    "\n",
    "    for i in range(len(nums)):\n",
    "        curr += (-1 if nums[i] == 0 else 1)\n",
    "        if curr in prefixes:\n",
    "            curr_len = i - prefixes[curr]\n",
    "            max_len = max(max_len, curr_len)\n",
    "        else:\n",
    "            prefixes[curr] = i\n",
    "\n",
    "\n",
    "    return max_len\n",
    "        \n",
    "\n",
    "find_longest_subarray([0,0,1])\n"
   ]
  },
  {
   "cell_type": "code",
   "execution_count": null,
   "metadata": {},
   "outputs": [],
   "source": []
  }
 ],
 "metadata": {
  "kernelspec": {
   "display_name": "base",
   "language": "python",
   "name": "python3"
  },
  "language_info": {
   "codemirror_mode": {
    "name": "ipython",
    "version": 3
   },
   "file_extension": ".py",
   "mimetype": "text/x-python",
   "name": "python",
   "nbconvert_exporter": "python",
   "pygments_lexer": "ipython3",
   "version": "3.12.2"
  }
 },
 "nbformat": 4,
 "nbformat_minor": 2
}
