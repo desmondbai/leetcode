{
 "cells": [
  {
   "cell_type": "markdown",
   "metadata": {},
   "source": [
    "### Leetcode 88\n",
    "Given two sorted integer arrays arr1 and arr2, return a new array that combines both of them and is also sorted.\n"
   ]
  },
  {
   "cell_type": "code",
   "execution_count": 6,
   "metadata": {},
   "outputs": [
    {
     "data": {
      "text/plain": [
       "[-1, 1, 2, 3, 4, 4, 6]"
      ]
     },
     "execution_count": 6,
     "metadata": {},
     "output_type": "execute_result"
    }
   ],
   "source": [
    "\n",
    "def merge_sorted_arrays(nums1,nums2):\n",
    "    \"\"\"\n",
    "    Reasoning:\n",
    "    set pointer a at start of arr1\n",
    "    set pointer b at start of arr2\n",
    "    When both pointers are yet to exhaust their respective arrays, iteratively compare [element at pointer a] and [element at pointer b]\n",
    "    append the smaller one, move the pointer of which element has been appended\n",
    "    Continue the while loop for arr1 or arr2 if any of them is not exhausted\n",
    "    \"\"\"\n",
    "    i=j=0\n",
    "    out = []\n",
    "    while i < len(nums1) and j < len(nums2):\n",
    "        if nums1[i] < nums2[j]:\n",
    "            out.append(nums1[i])\n",
    "            i+=1\n",
    "        else:\n",
    "            out.append(nums2[j])\n",
    "            j+=1\n",
    "    \n",
    "    while i < len(nums1):\n",
    "        out.append(nums1[i])\n",
    "        i+=1\n",
    "    \n",
    "    while j < len(nums2):\n",
    "        out.append(nums2[j])\n",
    "        j+=1\n",
    "    \n",
    "\n",
    "    return out\n",
    "\n",
    "\n",
    "merge_sorted_arrays([1,2,3,4],[-1,4,6])\n",
    "\n",
    "\n"
   ]
  },
  {
   "cell_type": "markdown",
   "metadata": {},
   "source": [
    "### Leetcode 167\n",
    "Given a 1-indexed array of integers numbers that is already **sorted in non-decreasing order**, find two numbers such that they add up to a specific target number. Let these two numbers be numbers[index1] and numbers[index2] where 1 <= index1 < index2 <= numbers.length.\n",
    "\n",
    "Return the indices of the two numbers, index1 and index2, added by one as an integer array [index1, index2] of length 2.\n",
    "\n",
    "The tests are generated such that there is exactly one solution. You may not use the same element twice.\n",
    "\n",
    "Your solution must use only constant extra space.\n",
    "\n",
    "`Input: numbers = [2,7,11,15], target = 9`  \n",
    "`Output: [1,2]`"
   ]
  },
  {
   "cell_type": "code",
   "execution_count": 7,
   "metadata": {},
   "outputs": [
    {
     "data": {
      "text/plain": [
       "[1, 2]"
      ]
     },
     "execution_count": 7,
     "metadata": {},
     "output_type": "execute_result"
    }
   ],
   "source": [
    "def find_indices_two_sums(numbers,target):\n",
    "    i,j = 0,len(numbers)-1\n",
    "    while i < j:\n",
    "        if numbers[i] + numbers[j] > target:\n",
    "            j -= 1\n",
    "        elif numbers[i] + numbers[j] < target:\n",
    "            i += 1\n",
    "        else:\n",
    "            return [i+1,j+1]\n",
    "        \n",
    "\n",
    "find_indices_two_sums([2,7,11,15],9)\n"
   ]
  },
  {
   "cell_type": "markdown",
   "metadata": {},
   "source": [
    "### Leetcode 1004\n",
    "Given a binary array nums and an integer k, return the maximum number of consecutive 1's in the array if you can flip at most k 0's.\n",
    "\n"
   ]
  },
  {
   "cell_type": "code",
   "execution_count": 12,
   "metadata": {},
   "outputs": [
    {
     "name": "stdout",
     "output_type": "stream",
     "text": [
      "6\n",
      "10\n"
     ]
    }
   ],
   "source": [
    "def max_consec_ones(nums,k):\n",
    "    \"\"\"\n",
    "    Longest array containing at most k 0s\n",
    "    \"\"\"\n",
    "\n",
    "    max_len = left = cnt_zeros = 0\n",
    "    for right in range(len(nums)):\n",
    "        cnt_zeros += nums[right]==0\n",
    "        while cnt_zeros > k:\n",
    "            cnt_zeros -= nums[left]==0\n",
    "            left += 1\n",
    "        \n",
    "        max_len = max(max_len,right - left + 1)\n",
    "\n",
    "    return max_len\n",
    "\n",
    "\n",
    "print(max_consec_ones([1,1,1,0,0,0,1,1,1,1,0],2))\n",
    "\n",
    "print(max_consec_ones([0,0,1,1,0,0,1,1,1,0,1,1,0,0,0,1,1,1,1],3))\n",
    "        \n",
    "\n",
    "\n",
    "\n",
    "        \n"
   ]
  },
  {
   "cell_type": "markdown",
   "metadata": {},
   "source": [
    "### Leetcode 713\n",
    "Given an array of `positive integers` nums and an integer k, return the number of subarrays where the product of all the elements in the subarray is strictly less than k.\n",
    "\n",
    "For example, given the `input nums = [10, 5, 2, 6], k = 100`, the answer is `8`. The subarrays with products less than k are:\n",
    "\n",
    "`[10], [5], [2], [6], [10, 5], [5, 2], [2, 6], [5, 2, 6]`\n",
    "\n",
    "\n",
    "**Trick: number of subarrays ending at right index for a valid window from `left` to `right` is `right-left+1`**"
   ]
  },
  {
   "cell_type": "code",
   "execution_count": 18,
   "metadata": {},
   "outputs": [
    {
     "data": {
      "text/plain": [
       "8"
      ]
     },
     "execution_count": 18,
     "metadata": {},
     "output_type": "execute_result"
    }
   ],
   "source": [
    "def n_valid_arrays(nums,k):\n",
    "    left=cnt=0\n",
    "    curr=1\n",
    "    if k <= 1:\n",
    "        return None\n",
    "    for right in range(len(nums)):\n",
    "        curr *= nums[right]\n",
    "        while curr >= k:\n",
    "            curr //= nums[left]\n",
    "            left += 1\n",
    "        \n",
    "        cnt += (right-left+1)\n",
    "    \n",
    "    return cnt\n",
    "\n",
    "\n",
    "n_valid_arrays([10,5,2,6],100)\n"
   ]
  },
  {
   "cell_type": "markdown",
   "metadata": {},
   "source": [
    "### Leetcode 643\n",
    "You are given an integer array nums consisting of n elements, and an integer k.\n",
    "\n",
    "Find a contiguous subarray whose length is equal to k that has the maximum average value and return this value. Any answer with a calculation error less than 10-5 will be accepted.\n",
    "\n",
    "`Input: nums = [1,12,-5,-6,50,3], k = 4`  \n",
    "`Output: 12.75000`"
   ]
  },
  {
   "cell_type": "code",
   "execution_count": 24,
   "metadata": {},
   "outputs": [
    {
     "data": {
      "text/plain": [
       "12.75"
      ]
     },
     "execution_count": 24,
     "metadata": {},
     "output_type": "execute_result"
    }
   ],
   "source": [
    "def max_avg_of_length_k(nums,k):\n",
    "    if len(nums) < k:\n",
    "        return None\n",
    "    ans = float('-inf')\n",
    "    curr = sum(nums[:k])\n",
    "    for i in range(k,len(nums)):\n",
    "        curr += nums[i]-nums[i-k]\n",
    "        ans = max(curr,ans)\n",
    "\n",
    "    \n",
    "    return ans / k\n",
    "\n",
    "\n",
    "max_avg_of_length_k([1,12,-5,-6,50,3],4)\n"
   ]
  },
  {
   "cell_type": "code",
   "execution_count": null,
   "metadata": {},
   "outputs": [],
   "source": []
  }
 ],
 "metadata": {
  "kernelspec": {
   "display_name": "base",
   "language": "python",
   "name": "python3"
  },
  "language_info": {
   "codemirror_mode": {
    "name": "ipython",
    "version": 3
   },
   "file_extension": ".py",
   "mimetype": "text/x-python",
   "name": "python",
   "nbconvert_exporter": "python",
   "pygments_lexer": "ipython3",
   "version": "3.12.2"
  }
 },
 "nbformat": 4,
 "nbformat_minor": 2
}
